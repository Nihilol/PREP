{
 "cells": [
  {
   "cell_type": "code",
   "execution_count": 1,
   "metadata": {},
   "outputs": [],
   "source": [
    "import gdspy\n"
   ]
  },
  {
   "cell_type": "code",
   "execution_count": 2,
   "metadata": {},
   "outputs": [
    {
     "name": "stdout",
     "output_type": "stream",
     "text": [
      "Cell (\"toplevel\", 28 polygons, 0 paths, 0 labels, 0 references)\n",
      "[<gdspy.polygon.PolygonSet object at 0x7efc40d5a300>, <gdspy.polygon.PolygonSet object at 0x7efc40d5a440>, None]\n",
      "[<gdspy.polygon.PolygonSet object at 0x7efc40d5a540>, <gdspy.polygon.PolygonSet object at 0x7efc40d5a680>, None]\n",
      "[<gdspy.polygon.PolygonSet object at 0x7efc40d5a300>, <gdspy.polygon.PolygonSet object at 0x7efc40d5a7c0>, None]\n",
      "[None, <gdspy.polygon.PolygonSet object at 0x7efc40d5a540>, <gdspy.polygon.PolygonSet object at 0x7efc40d5a880>]\n",
      "[None, <gdspy.polygon.PolygonSet object at 0x7efc40d5a300>, <gdspy.polygon.PolygonSet object at 0x7efc40d5a940>]\n",
      "[None, <gdspy.polygon.PolygonSet object at 0x7efc40d5aa00>, <gdspy.polygon.PolygonSet object at 0x7efc40d5aa80>]\n",
      "[<gdspy.polygon.PolygonSet object at 0x7efc40d5a940>, <gdspy.polygon.PolygonSet object at 0x7efc40d5abc0>, None]\n",
      "[None, <gdspy.polygon.PolygonSet object at 0x7efc40d5aa80>, <gdspy.polygon.PolygonSet object at 0x7efc40d5ac80>]\n",
      "[None, <gdspy.polygon.PolygonSet object at 0x7efc40d5a940>, <gdspy.polygon.PolygonSet object at 0x7efc40d5adc0>]\n",
      "[None, <gdspy.polygon.PolygonSet object at 0x7efc40d5a880>, <gdspy.polygon.PolygonSet object at 0x7efc40d5aec0>]\n",
      "[<gdspy.polygon.PolygonSet object at 0x7efc40d5adc0>, <gdspy.polygon.PolygonSet object at 0x7efc40d5b040>, None]\n",
      "[None, <gdspy.polygon.PolygonSet object at 0x7efc40d5aec0>, <gdspy.polygon.PolygonSet object at 0x7efc40d5b140>]\n",
      "[None, <gdspy.polygon.PolygonSet object at 0x7efc40d5adc0>, <gdspy.polygon.PolygonSet object at 0x7efc40d5b280>]\n",
      "[<gdspy.polygon.PolygonSet object at 0x7efc40d5b140>, <gdspy.polygon.PolygonSet object at 0x7efc40d5b400>, None]\n",
      "[<gdspy.polygon.PolygonSet object at 0x7efc40d5b280>, <gdspy.polygon.PolygonSet object at 0x7efc40d5b540>, None]\n",
      "[<gdspy.polygon.PolygonSet object at 0x7efc40d5b140>, <gdspy.polygon.PolygonSet object at 0x7efc40d5b680>, None]\n",
      "[None, <gdspy.polygon.PolygonSet object at 0x7efc40d5b280>, <gdspy.polygon.PolygonSet object at 0x7efc40d5b780>]\n",
      "[<gdspy.polygon.PolygonSet object at 0x7efc40d5b140>, <gdspy.polygon.PolygonSet object at 0x7efc40d5b900>, None]\n",
      "[<gdspy.polygon.PolygonSet object at 0x7efc40d5b780>, <gdspy.polygon.PolygonSet object at 0x7efc40d5ba40>, None]\n",
      "[None, <gdspy.polygon.PolygonSet object at 0x7efc40d5b140>, <gdspy.polygon.PolygonSet object at 0x7efc40d5bb40>]\n",
      "[<gdspy.polygon.PolygonSet object at 0x7efc40d5b780>, <gdspy.polygon.PolygonSet object at 0x7efc40d5bcc0>, None]\n",
      "[<gdspy.polygon.PolygonSet object at 0x7efc40d5bb40>, <gdspy.polygon.PolygonSet object at 0x7efc40d5be00>, None]\n",
      "[None, <gdspy.polygon.PolygonSet object at 0x7efc40d5b780>, <gdspy.polygon.PolygonSet object at 0x7efc40d5bf00>]\n",
      "[<gdspy.polygon.PolygonSet object at 0x7efc40d5bb40>, <gdspy.polygon.PolygonSet object at 0x7efc40d6c0c0>, None]\n",
      "[None, <gdspy.polygon.PolygonSet object at 0x7efc40d5bf00>, <gdspy.polygon.PolygonSet object at 0x7efc40d6c1c0>]\n",
      "[<gdspy.polygon.PolygonSet object at 0x7efc40d5bb40>, <gdspy.polygon.PolygonSet object at 0x7efc40d6c340>, None]\n",
      "[<gdspy.polygon.PolygonSet object at 0x7efc40d6c1c0>, <gdspy.polygon.PolygonSet object at 0x7efc40d6c480>, None]\n",
      "[None, <gdspy.polygon.PolygonSet object at 0x7efc40d5bb40>, <gdspy.polygon.PolygonSet object at 0x7efc40d6c580>]\n"
     ]
    },
    {
     "data": {
      "text/plain": [
       "<gdspy.viewer.LayoutViewer object .!layoutviewer>"
      ]
     },
     "execution_count": 2,
     "metadata": {},
     "output_type": "execute_result"
    }
   ],
   "source": [
    "loaded_lib = gdspy.GdsLibrary(infile=\"1x4_inner_structure.gds\")\n",
    "new_lib = gdspy.GdsLibrary()\n",
    "main_cell = loaded_lib.top_level()[0]  # Assume a single top level cell\n",
    "print(main_cell)\n",
    "cell1 = new_lib.new_cell('Slices')\n",
    "for i in main_cell.polygons:\n",
    "    i1 = gdspy.slice(i, [-1000, 1000], axis = 0)\n",
    "    i2 = gdspy.slice(i1, [-500, 500], axis = 1)\n",
    "    print(i2)\n",
    "    cell1.add(i2[1])\n",
    "    \n",
    "\n",
    "new_lib.write_gds('new_gds.gds')\n",
    "new_gds = gdspy.GdsLibrary(infile=\"new_gds.gds\")\n",
    "gdspy.LayoutViewer(new_gds)"
   ]
  },
  {
   "cell_type": "code",
   "execution_count": null,
   "metadata": {},
   "outputs": [],
   "source": []
  }
 ],
 "metadata": {
  "kernelspec": {
   "display_name": "Python 3",
   "language": "python",
   "name": "python3"
  },
  "language_info": {
   "codemirror_mode": {
    "name": "ipython",
    "version": 3
   },
   "file_extension": ".py",
   "mimetype": "text/x-python",
   "name": "python",
   "nbconvert_exporter": "python",
   "pygments_lexer": "ipython3",
   "version": "3.10.6"
  },
  "orig_nbformat": 4
 },
 "nbformat": 4,
 "nbformat_minor": 2
}
